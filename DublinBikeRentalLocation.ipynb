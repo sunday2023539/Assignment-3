{
 "cells": [
  {
   "cell_type": "code",
   "execution_count": 1,
   "id": "d84e52b7",
   "metadata": {},
   "outputs": [
    {
     "name": "stdout",
     "output_type": "stream",
     "text": [
      "Defaulting to user installation because normal site-packages is not writeable\n",
      "Requirement already satisfied: pandas in c:\\program files\\arcgis\\pro\\bin\\python\\envs\\arcgispro-py3\\lib\\site-packages (1.4.4)\n",
      "Requirement already satisfied: python-dateutil>=2.8.1 in c:\\program files\\arcgis\\pro\\bin\\python\\envs\\arcgispro-py3\\lib\\site-packages (from pandas) (2.8.2)\n",
      "Requirement already satisfied: pytz>=2020.1 in c:\\program files\\arcgis\\pro\\bin\\python\\envs\\arcgispro-py3\\lib\\site-packages\\pytz-2022.6-py3.9.egg (from pandas) (2022.6)\n",
      "Requirement already satisfied: numpy>=1.18.5 in c:\\program files\\arcgis\\pro\\bin\\python\\envs\\arcgispro-py3\\lib\\site-packages (from pandas) (1.20.1)\n",
      "Requirement already satisfied: six>=1.5 in c:\\program files\\arcgis\\pro\\bin\\python\\envs\\arcgispro-py3\\lib\\site-packages (from python-dateutil>=2.8.1->pandas) (1.16.0)\n"
     ]
    }
   ],
   "source": [
    "!pip install pandas"
   ]
  },
  {
   "cell_type": "code",
   "execution_count": 2,
   "id": "d329a61a",
   "metadata": {
    "scrolled": true
   },
   "outputs": [
    {
     "name": "stdout",
     "output_type": "stream",
     "text": [
      "Defaulting to user installation because normal site-packages is not writeable\n",
      "Requirement already satisfied: Folium in c:\\users\\xy\\appdata\\roaming\\python\\python39\\site-packages (0.14.0)\n",
      "Requirement already satisfied: branca>=0.6.0 in c:\\users\\xy\\appdata\\roaming\\python\\python39\\site-packages (from Folium) (0.6.0)\n",
      "Requirement already satisfied: jinja2>=2.9 in c:\\program files\\arcgis\\pro\\bin\\python\\envs\\arcgispro-py3\\lib\\site-packages (from Folium) (3.0.3)\n",
      "Requirement already satisfied: numpy in c:\\program files\\arcgis\\pro\\bin\\python\\envs\\arcgispro-py3\\lib\\site-packages (from Folium) (1.20.1)\n",
      "Requirement already satisfied: requests in c:\\program files\\arcgis\\pro\\bin\\python\\envs\\arcgispro-py3\\lib\\site-packages (from Folium) (2.28.1)\n",
      "Requirement already satisfied: MarkupSafe>=2.0 in c:\\program files\\arcgis\\pro\\bin\\python\\envs\\arcgispro-py3\\lib\\site-packages (from jinja2>=2.9->Folium) (2.1.1)\n",
      "Requirement already satisfied: charset-normalizer<3,>=2 in c:\\program files\\arcgis\\pro\\bin\\python\\envs\\arcgispro-py3\\lib\\site-packages (from requests->Folium) (2.0.4)\n",
      "Requirement already satisfied: idna<4,>=2.5 in c:\\program files\\arcgis\\pro\\bin\\python\\envs\\arcgispro-py3\\lib\\site-packages (from requests->Folium) (3.4)\n",
      "Requirement already satisfied: urllib3<1.27,>=1.21.1 in c:\\program files\\arcgis\\pro\\bin\\python\\envs\\arcgispro-py3\\lib\\site-packages (from requests->Folium) (1.26.12)\n",
      "Requirement already satisfied: certifi>=2017.4.17 in c:\\program files\\arcgis\\pro\\bin\\python\\envs\\arcgispro-py3\\lib\\site-packages (from requests->Folium) (2022.9.24)\n"
     ]
    }
   ],
   "source": [
    "!pip install Folium"
   ]
  },
  {
   "cell_type": "code",
   "execution_count": null,
   "id": "3b254b20",
   "metadata": {},
   "outputs": [],
   "source": [
    "# After successfully installing the folium and pandas on jupyter notebook\n",
    "#we need to import the libraries:"
   ]
  },
  {
   "cell_type": "code",
   "execution_count": 3,
   "id": "67cfc4f6",
   "metadata": {},
   "outputs": [],
   "source": [
    "import pandas as pd\n",
    "import folium"
   ]
  },
  {
   "cell_type": "code",
   "execution_count": null,
   "id": "22884a6e",
   "metadata": {},
   "outputs": [],
   "source": [
    "# working on how to get the bike rental location data,create a simple map, and add points to each of the location using folium in python"
   ]
  },
  {
   "cell_type": "code",
   "execution_count": null,
   "id": "6b8df53e",
   "metadata": {},
   "outputs": [],
   "source": [
    "#Getting the bike station locations and saving to a data frame\n",
    "#Pandas allows us to import data from various file formats such as CSV,JSON etc"
   ]
  },
  {
   "cell_type": "code",
   "execution_count": 6,
   "id": "554f8074",
   "metadata": {
    "scrolled": true
   },
   "outputs": [],
   "source": [
    "location = \"https://data.smartdublin.ie/dataset/33ec9fe2-4957-4e9a-ab55-c5e917c7a9ab/resource/2dec86ed-76ed-47a3-ae28-646db5c5b965/download/dublin.csv\""
   ]
  },
  {
   "cell_type": "code",
   "execution_count": 8,
   "id": "bdf7d948",
   "metadata": {},
   "outputs": [],
   "source": [
    "bike_station_locations = pd.read_csv(location)"
   ]
  },
  {
   "cell_type": "code",
   "execution_count": 9,
   "id": "dfa1d684",
   "metadata": {},
   "outputs": [
    {
     "data": {
      "text/html": [
       "<div>\n",
       "<style scoped>\n",
       "    .dataframe tbody tr th:only-of-type {\n",
       "        vertical-align: middle;\n",
       "    }\n",
       "\n",
       "    .dataframe tbody tr th {\n",
       "        vertical-align: top;\n",
       "    }\n",
       "\n",
       "    .dataframe thead th {\n",
       "        text-align: right;\n",
       "    }\n",
       "</style>\n",
       "<table border=\"1\" class=\"dataframe\">\n",
       "  <thead>\n",
       "    <tr style=\"text-align: right;\">\n",
       "      <th></th>\n",
       "      <th>Number</th>\n",
       "      <th>Name</th>\n",
       "      <th>Address</th>\n",
       "      <th>Latitude</th>\n",
       "      <th>Longitude</th>\n",
       "    </tr>\n",
       "  </thead>\n",
       "  <tbody>\n",
       "    <tr>\n",
       "      <th>0</th>\n",
       "      <td>42</td>\n",
       "      <td>SMITHFIELD NORTH</td>\n",
       "      <td>Smithfield North</td>\n",
       "      <td>53.349562</td>\n",
       "      <td>-6.278198</td>\n",
       "    </tr>\n",
       "    <tr>\n",
       "      <th>1</th>\n",
       "      <td>30</td>\n",
       "      <td>PARNELL SQUARE NORTH</td>\n",
       "      <td>Parnell Square North</td>\n",
       "      <td>53.353462</td>\n",
       "      <td>-6.265305</td>\n",
       "    </tr>\n",
       "    <tr>\n",
       "      <th>2</th>\n",
       "      <td>54</td>\n",
       "      <td>CLONMEL STREET</td>\n",
       "      <td>Clonmel Street</td>\n",
       "      <td>53.336021</td>\n",
       "      <td>-6.262980</td>\n",
       "    </tr>\n",
       "    <tr>\n",
       "      <th>3</th>\n",
       "      <td>108</td>\n",
       "      <td>AVONDALE ROAD</td>\n",
       "      <td>Avondale Road</td>\n",
       "      <td>53.359405</td>\n",
       "      <td>-6.276142</td>\n",
       "    </tr>\n",
       "    <tr>\n",
       "      <th>4</th>\n",
       "      <td>56</td>\n",
       "      <td>MOUNT STREET LOWER</td>\n",
       "      <td>Mount Street Lower</td>\n",
       "      <td>53.337960</td>\n",
       "      <td>-6.241530</td>\n",
       "    </tr>\n",
       "    <tr>\n",
       "      <th>...</th>\n",
       "      <td>...</td>\n",
       "      <td>...</td>\n",
       "      <td>...</td>\n",
       "      <td>...</td>\n",
       "      <td>...</td>\n",
       "    </tr>\n",
       "    <tr>\n",
       "      <th>105</th>\n",
       "      <td>39</td>\n",
       "      <td>WILTON TERRACE</td>\n",
       "      <td>Wilton Terrace</td>\n",
       "      <td>53.332383</td>\n",
       "      <td>-6.252717</td>\n",
       "    </tr>\n",
       "    <tr>\n",
       "      <th>106</th>\n",
       "      <td>83</td>\n",
       "      <td>EMMET ROAD</td>\n",
       "      <td>Emmet Road</td>\n",
       "      <td>53.340714</td>\n",
       "      <td>-6.308191</td>\n",
       "    </tr>\n",
       "    <tr>\n",
       "      <th>107</th>\n",
       "      <td>92</td>\n",
       "      <td>HEUSTON BRIDGE (NORTH)</td>\n",
       "      <td>Heuston Bridge (North)</td>\n",
       "      <td>53.347802</td>\n",
       "      <td>-6.292432</td>\n",
       "    </tr>\n",
       "    <tr>\n",
       "      <th>108</th>\n",
       "      <td>21</td>\n",
       "      <td>LEINSTER STREET SOUTH</td>\n",
       "      <td>Leinster Street South</td>\n",
       "      <td>53.342180</td>\n",
       "      <td>-6.254485</td>\n",
       "    </tr>\n",
       "    <tr>\n",
       "      <th>109</th>\n",
       "      <td>88</td>\n",
       "      <td>BLACKHALL PLACE</td>\n",
       "      <td>Blackhall Place</td>\n",
       "      <td>53.348800</td>\n",
       "      <td>-6.281637</td>\n",
       "    </tr>\n",
       "  </tbody>\n",
       "</table>\n",
       "<p>110 rows × 5 columns</p>\n",
       "</div>"
      ],
      "text/plain": [
       "     Number                    Name                 Address   Latitude  \\\n",
       "0        42        SMITHFIELD NORTH        Smithfield North  53.349562   \n",
       "1        30    PARNELL SQUARE NORTH    Parnell Square North  53.353462   \n",
       "2        54          CLONMEL STREET          Clonmel Street  53.336021   \n",
       "3       108           AVONDALE ROAD           Avondale Road  53.359405   \n",
       "4        56      MOUNT STREET LOWER      Mount Street Lower  53.337960   \n",
       "..      ...                     ...                     ...        ...   \n",
       "105      39          WILTON TERRACE          Wilton Terrace  53.332383   \n",
       "106      83              EMMET ROAD              Emmet Road  53.340714   \n",
       "107      92  HEUSTON BRIDGE (NORTH)  Heuston Bridge (North)  53.347802   \n",
       "108      21   LEINSTER STREET SOUTH   Leinster Street South  53.342180   \n",
       "109      88         BLACKHALL PLACE         Blackhall Place  53.348800   \n",
       "\n",
       "     Longitude  \n",
       "0    -6.278198  \n",
       "1    -6.265305  \n",
       "2    -6.262980  \n",
       "3    -6.276142  \n",
       "4    -6.241530  \n",
       "..         ...  \n",
       "105  -6.252717  \n",
       "106  -6.308191  \n",
       "107  -6.292432  \n",
       "108  -6.254485  \n",
       "109  -6.281637  \n",
       "\n",
       "[110 rows x 5 columns]"
      ]
     },
     "execution_count": 9,
     "metadata": {},
     "output_type": "execute_result"
    }
   ],
   "source": [
    "bike_station_locations"
   ]
  },
  {
   "cell_type": "code",
   "execution_count": null,
   "id": "56bc95ae",
   "metadata": {},
   "outputs": [],
   "source": [
    "#The bike_station_locations has been imported"
   ]
  },
  {
   "cell_type": "code",
   "execution_count": null,
   "id": "2031639d",
   "metadata": {},
   "outputs": [],
   "source": [
    "Now i need to keep the latitude and longitude and the name of the locations. \n",
    "the first two columns will allow me to map the location and the last two will be use to give each location pin a name."
   ]
  },
  {
   "cell_type": "code",
   "execution_count": 10,
   "id": "c9c8ba73",
   "metadata": {},
   "outputs": [],
   "source": [
    "bike_station_locations = bike_station_locations[[\"Latitude\", \"Longitude\", \"Name\"]]"
   ]
  },
  {
   "cell_type": "code",
   "execution_count": null,
   "id": "dc92c53c",
   "metadata": {},
   "outputs": [],
   "source": [
    "The next step is to create a map of the location using the location parameters."
   ]
  },
  {
   "cell_type": "code",
   "execution_count": 44,
   "id": "40c64c57",
   "metadata": {},
   "outputs": [],
   "source": [
    "m = folium.Map(location=[53.348800, -6.281637], tiles='open street map', \n",
    "               zoom_start=12, control_scale=True)"
   ]
  },
  {
   "cell_type": "code",
   "execution_count": 43,
   "id": "51f49540",
   "metadata": {},
   "outputs": [
    {
     "data": {
      "text/html": [
       "<div style=\"width:100%;\"><div style=\"position:relative;width:100%;height:0;padding-bottom:60%;\"><span style=\"color:#565656\">Make this Notebook Trusted to load map: File -> Trust Notebook</span><iframe srcdoc=\"&lt;!DOCTYPE html&gt;\n",
       "&lt;html&gt;\n",
       "&lt;head&gt;\n",
       "    \n",
       "    &lt;meta http-equiv=&quot;content-type&quot; content=&quot;text/html; charset=UTF-8&quot; /&gt;\n",
       "    \n",
       "        &lt;script&gt;\n",
       "            L_NO_TOUCH = false;\n",
       "            L_DISABLE_3D = false;\n",
       "        &lt;/script&gt;\n",
       "    \n",
       "    &lt;style&gt;html, body {width: 100%;height: 100%;margin: 0;padding: 0;}&lt;/style&gt;\n",
       "    &lt;style&gt;#map {position:absolute;top:0;bottom:0;right:0;left:0;}&lt;/style&gt;\n",
       "    &lt;script src=&quot;https://cdn.jsdelivr.net/npm/leaflet@1.9.3/dist/leaflet.js&quot;&gt;&lt;/script&gt;\n",
       "    &lt;script src=&quot;https://code.jquery.com/jquery-1.12.4.min.js&quot;&gt;&lt;/script&gt;\n",
       "    &lt;script src=&quot;https://cdn.jsdelivr.net/npm/bootstrap@5.2.2/dist/js/bootstrap.bundle.min.js&quot;&gt;&lt;/script&gt;\n",
       "    &lt;script src=&quot;https://cdnjs.cloudflare.com/ajax/libs/Leaflet.awesome-markers/2.0.2/leaflet.awesome-markers.js&quot;&gt;&lt;/script&gt;\n",
       "    &lt;link rel=&quot;stylesheet&quot; href=&quot;https://cdn.jsdelivr.net/npm/leaflet@1.9.3/dist/leaflet.css&quot;/&gt;\n",
       "    &lt;link rel=&quot;stylesheet&quot; href=&quot;https://cdn.jsdelivr.net/npm/bootstrap@5.2.2/dist/css/bootstrap.min.css&quot;/&gt;\n",
       "    &lt;link rel=&quot;stylesheet&quot; href=&quot;https://netdna.bootstrapcdn.com/bootstrap/3.0.0/css/bootstrap.min.css&quot;/&gt;\n",
       "    &lt;link rel=&quot;stylesheet&quot; href=&quot;https://cdn.jsdelivr.net/npm/@fortawesome/fontawesome-free@6.2.0/css/all.min.css&quot;/&gt;\n",
       "    &lt;link rel=&quot;stylesheet&quot; href=&quot;https://cdnjs.cloudflare.com/ajax/libs/Leaflet.awesome-markers/2.0.2/leaflet.awesome-markers.css&quot;/&gt;\n",
       "    &lt;link rel=&quot;stylesheet&quot; href=&quot;https://cdn.jsdelivr.net/gh/python-visualization/folium/folium/templates/leaflet.awesome.rotate.min.css&quot;/&gt;\n",
       "    \n",
       "            &lt;meta name=&quot;viewport&quot; content=&quot;width=device-width,\n",
       "                initial-scale=1.0, maximum-scale=1.0, user-scalable=no&quot; /&gt;\n",
       "            &lt;style&gt;\n",
       "                #map_68254195b6d9a321588aab4a2862ec39 {\n",
       "                    position: relative;\n",
       "                    width: 100.0%;\n",
       "                    height: 100.0%;\n",
       "                    left: 0.0%;\n",
       "                    top: 0.0%;\n",
       "                }\n",
       "                .leaflet-container { font-size: 1rem; }\n",
       "            &lt;/style&gt;\n",
       "        \n",
       "&lt;/head&gt;\n",
       "&lt;body&gt;\n",
       "    \n",
       "    \n",
       "            &lt;div class=&quot;folium-map&quot; id=&quot;map_68254195b6d9a321588aab4a2862ec39&quot; &gt;&lt;/div&gt;\n",
       "        \n",
       "&lt;/body&gt;\n",
       "&lt;script&gt;\n",
       "    \n",
       "    \n",
       "            var map_68254195b6d9a321588aab4a2862ec39 = L.map(\n",
       "                &quot;map_68254195b6d9a321588aab4a2862ec39&quot;,\n",
       "                {\n",
       "                    center: [53.3488, -6.281637],\n",
       "                    crs: L.CRS.EPSG3857,\n",
       "                    zoom: 10,\n",
       "                    zoomControl: true,\n",
       "                    preferCanvas: false,\n",
       "                }\n",
       "            );\n",
       "            L.control.scale().addTo(map_68254195b6d9a321588aab4a2862ec39);\n",
       "\n",
       "            \n",
       "\n",
       "        \n",
       "    \n",
       "            var tile_layer_b65290d4c8c159cf2ca1cbcb2d53f244 = L.tileLayer(\n",
       "                &quot;https://stamen-tiles-{s}.a.ssl.fastly.net/toner/{z}/{x}/{y}.png&quot;,\n",
       "                {&quot;attribution&quot;: &quot;Map tiles by \\u003ca target=\\&quot;_blank\\&quot; href=\\&quot;http://stamen.com\\&quot;\\u003eStamen Design\\u003c/a\\u003e, under \\u003ca target=\\&quot;_blank\\&quot; href=\\&quot;http://creativecommons.org/licenses/by/3.0\\&quot;\\u003eCC BY 3.0\\u003c/a\\u003e. Data by \\u0026copy; \\u003ca target=\\&quot;_blank\\&quot; href=\\&quot;http://openstreetmap.org\\&quot;\\u003eOpenStreetMap\\u003c/a\\u003e, under \\u003ca target=\\&quot;_blank\\&quot; href=\\&quot;http://www.openstreetmap.org/copyright\\&quot;\\u003eODbL\\u003c/a\\u003e.&quot;, &quot;detectRetina&quot;: false, &quot;maxNativeZoom&quot;: 18, &quot;maxZoom&quot;: 18, &quot;minZoom&quot;: 0, &quot;noWrap&quot;: false, &quot;opacity&quot;: 1, &quot;subdomains&quot;: &quot;abc&quot;, &quot;tms&quot;: false}\n",
       "            ).addTo(map_68254195b6d9a321588aab4a2862ec39);\n",
       "        \n",
       "    \n",
       "            var marker_00a8c7ff8a34dbc1c8a31bdcc71a2aa0 = L.marker(\n",
       "                [53.3488, -6.281637],\n",
       "                {}\n",
       "            ).addTo(map_68254195b6d9a321588aab4a2862ec39);\n",
       "        \n",
       "    \n",
       "        var popup_ce671ab203bd1e6d42de34fd0a367ab3 = L.popup({&quot;maxWidth&quot;: &quot;100%&quot;});\n",
       "\n",
       "        \n",
       "            \n",
       "                var html_f2a06b210221dec93117d8b9c69a6ef3 = $(`&lt;div id=&quot;html_f2a06b210221dec93117d8b9c69a6ef3&quot; style=&quot;width: 100.0%; height: 100.0%;&quot;&gt;&lt;b&gt;dublin&lt;/b&gt;&lt;/div&gt;`)[0];\n",
       "                popup_ce671ab203bd1e6d42de34fd0a367ab3.setContent(html_f2a06b210221dec93117d8b9c69a6ef3);\n",
       "            \n",
       "        \n",
       "\n",
       "        marker_00a8c7ff8a34dbc1c8a31bdcc71a2aa0.bindPopup(popup_ce671ab203bd1e6d42de34fd0a367ab3)\n",
       "        ;\n",
       "\n",
       "        \n",
       "    \n",
       "    \n",
       "            marker_00a8c7ff8a34dbc1c8a31bdcc71a2aa0.bindTooltip(\n",
       "                `&lt;div&gt;\n",
       "                     I am a tooltip!\n",
       "                 &lt;/div&gt;`,\n",
       "                {&quot;sticky&quot;: true}\n",
       "            );\n",
       "        \n",
       "&lt;/script&gt;\n",
       "&lt;/html&gt;\" style=\"position:absolute;width:100%;height:100%;left:0;top:0;border:none !important;\" allowfullscreen webkitallowfullscreen mozallowfullscreen></iframe></div></div>"
      ],
      "text/plain": [
       "<folium.folium.Map at 0x208c14e4b50>"
      ]
     },
     "execution_count": 43,
     "metadata": {},
     "output_type": "execute_result"
    }
   ],
   "source": [
    "m"
   ]
  },
  {
   "cell_type": "code",
   "execution_count": null,
   "id": "eeaba426",
   "metadata": {},
   "outputs": [],
   "source": [
    "#This gives a blank map centered on the location previously given and zoomed to 10"
   ]
  },
  {
   "cell_type": "code",
   "execution_count": 40,
   "id": "b857a7dc",
   "metadata": {},
   "outputs": [
    {
     "ename": "SyntaxError",
     "evalue": "unexpected EOF while parsing (3100649891.py, line 3)",
     "output_type": "error",
     "traceback": [
      "\u001b[1;36m  File \u001b[1;32m\"C:\\Users\\xy\\AppData\\Local\\Temp\\ipykernel_8600\\3100649891.py\"\u001b[1;36m, line \u001b[1;32m3\u001b[0m\n\u001b[1;33m    marker_location\u001b[0m\n\u001b[1;37m                   ^\u001b[0m\n\u001b[1;31mSyntaxError\u001b[0m\u001b[1;31m:\u001b[0m unexpected EOF while parsing\n"
     ]
    }
   ],
   "source": [
    " "
   ]
  },
  {
   "cell_type": "code",
   "execution_count": null,
   "id": "b152c6b8",
   "metadata": {},
   "outputs": [],
   "source": []
  },
  {
   "cell_type": "code",
   "execution_count": 23,
   "id": "1ab0ba74",
   "metadata": {},
   "outputs": [
    {
     "ename": "SyntaxError",
     "evalue": "invalid syntax (4018556572.py, line 1)",
     "output_type": "error",
     "traceback": [
      "\u001b[1;36m  File \u001b[1;32m\"C:\\Users\\xy\\AppData\\Local\\Temp\\ipykernel_8600\\4018556572.py\"\u001b[1;36m, line \u001b[1;32m1\u001b[0m\n\u001b[1;33m    m = folium.marker().\u001b[0m\n\u001b[1;37m                        ^\u001b[0m\n\u001b[1;31mSyntaxError\u001b[0m\u001b[1;31m:\u001b[0m invalid syntax\n"
     ]
    }
   ],
   "source": []
  },
  {
   "cell_type": "code",
   "execution_count": null,
   "id": "e758b2b4",
   "metadata": {},
   "outputs": [],
   "source": [
    " Now I add the points for each bike station location to the map. Iterating through each row of the dataframe, I pass the location latitude and longitudes to folium.Marker as a list and pass the name to the popup parameter. And for each location I add to map:"
   ]
  },
  {
   "cell_type": "code",
   "execution_count": 41,
   "id": "36c6845b",
   "metadata": {},
   "outputs": [
    {
     "data": {
      "text/html": [
       "<div style=\"width:100%;\"><div style=\"position:relative;width:100%;height:0;padding-bottom:60%;\"><span style=\"color:#565656\">Make this Notebook Trusted to load map: File -> Trust Notebook</span><iframe srcdoc=\"&lt;!DOCTYPE html&gt;\n",
       "&lt;html&gt;\n",
       "&lt;head&gt;\n",
       "    \n",
       "    &lt;meta http-equiv=&quot;content-type&quot; content=&quot;text/html; charset=UTF-8&quot; /&gt;\n",
       "    \n",
       "        &lt;script&gt;\n",
       "            L_NO_TOUCH = false;\n",
       "            L_DISABLE_3D = false;\n",
       "        &lt;/script&gt;\n",
       "    \n",
       "    &lt;style&gt;html, body {width: 100%;height: 100%;margin: 0;padding: 0;}&lt;/style&gt;\n",
       "    &lt;style&gt;#map {position:absolute;top:0;bottom:0;right:0;left:0;}&lt;/style&gt;\n",
       "    &lt;script src=&quot;https://cdn.jsdelivr.net/npm/leaflet@1.9.3/dist/leaflet.js&quot;&gt;&lt;/script&gt;\n",
       "    &lt;script src=&quot;https://code.jquery.com/jquery-1.12.4.min.js&quot;&gt;&lt;/script&gt;\n",
       "    &lt;script src=&quot;https://cdn.jsdelivr.net/npm/bootstrap@5.2.2/dist/js/bootstrap.bundle.min.js&quot;&gt;&lt;/script&gt;\n",
       "    &lt;script src=&quot;https://cdnjs.cloudflare.com/ajax/libs/Leaflet.awesome-markers/2.0.2/leaflet.awesome-markers.js&quot;&gt;&lt;/script&gt;\n",
       "    &lt;link rel=&quot;stylesheet&quot; href=&quot;https://cdn.jsdelivr.net/npm/leaflet@1.9.3/dist/leaflet.css&quot;/&gt;\n",
       "    &lt;link rel=&quot;stylesheet&quot; href=&quot;https://cdn.jsdelivr.net/npm/bootstrap@5.2.2/dist/css/bootstrap.min.css&quot;/&gt;\n",
       "    &lt;link rel=&quot;stylesheet&quot; href=&quot;https://netdna.bootstrapcdn.com/bootstrap/3.0.0/css/bootstrap.min.css&quot;/&gt;\n",
       "    &lt;link rel=&quot;stylesheet&quot; href=&quot;https://cdn.jsdelivr.net/npm/@fortawesome/fontawesome-free@6.2.0/css/all.min.css&quot;/&gt;\n",
       "    &lt;link rel=&quot;stylesheet&quot; href=&quot;https://cdnjs.cloudflare.com/ajax/libs/Leaflet.awesome-markers/2.0.2/leaflet.awesome-markers.css&quot;/&gt;\n",
       "    &lt;link rel=&quot;stylesheet&quot; href=&quot;https://cdn.jsdelivr.net/gh/python-visualization/folium/folium/templates/leaflet.awesome.rotate.min.css&quot;/&gt;\n",
       "    \n",
       "            &lt;meta name=&quot;viewport&quot; content=&quot;width=device-width,\n",
       "                initial-scale=1.0, maximum-scale=1.0, user-scalable=no&quot; /&gt;\n",
       "            &lt;style&gt;\n",
       "                #map_68254195b6d9a321588aab4a2862ec39 {\n",
       "                    position: relative;\n",
       "                    width: 100.0%;\n",
       "                    height: 100.0%;\n",
       "                    left: 0.0%;\n",
       "                    top: 0.0%;\n",
       "                }\n",
       "                .leaflet-container { font-size: 1rem; }\n",
       "            &lt;/style&gt;\n",
       "        \n",
       "&lt;/head&gt;\n",
       "&lt;body&gt;\n",
       "    \n",
       "    \n",
       "            &lt;div class=&quot;folium-map&quot; id=&quot;map_68254195b6d9a321588aab4a2862ec39&quot; &gt;&lt;/div&gt;\n",
       "        \n",
       "&lt;/body&gt;\n",
       "&lt;script&gt;\n",
       "    \n",
       "    \n",
       "            var map_68254195b6d9a321588aab4a2862ec39 = L.map(\n",
       "                &quot;map_68254195b6d9a321588aab4a2862ec39&quot;,\n",
       "                {\n",
       "                    center: [53.3488, -6.281637],\n",
       "                    crs: L.CRS.EPSG3857,\n",
       "                    zoom: 10,\n",
       "                    zoomControl: true,\n",
       "                    preferCanvas: false,\n",
       "                }\n",
       "            );\n",
       "            L.control.scale().addTo(map_68254195b6d9a321588aab4a2862ec39);\n",
       "\n",
       "            \n",
       "\n",
       "        \n",
       "    \n",
       "            var tile_layer_b65290d4c8c159cf2ca1cbcb2d53f244 = L.tileLayer(\n",
       "                &quot;https://stamen-tiles-{s}.a.ssl.fastly.net/toner/{z}/{x}/{y}.png&quot;,\n",
       "                {&quot;attribution&quot;: &quot;Map tiles by \\u003ca target=\\&quot;_blank\\&quot; href=\\&quot;http://stamen.com\\&quot;\\u003eStamen Design\\u003c/a\\u003e, under \\u003ca target=\\&quot;_blank\\&quot; href=\\&quot;http://creativecommons.org/licenses/by/3.0\\&quot;\\u003eCC BY 3.0\\u003c/a\\u003e. Data by \\u0026copy; \\u003ca target=\\&quot;_blank\\&quot; href=\\&quot;http://openstreetmap.org\\&quot;\\u003eOpenStreetMap\\u003c/a\\u003e, under \\u003ca target=\\&quot;_blank\\&quot; href=\\&quot;http://www.openstreetmap.org/copyright\\&quot;\\u003eODbL\\u003c/a\\u003e.&quot;, &quot;detectRetina&quot;: false, &quot;maxNativeZoom&quot;: 18, &quot;maxZoom&quot;: 18, &quot;minZoom&quot;: 0, &quot;noWrap&quot;: false, &quot;opacity&quot;: 1, &quot;subdomains&quot;: &quot;abc&quot;, &quot;tms&quot;: false}\n",
       "            ).addTo(map_68254195b6d9a321588aab4a2862ec39);\n",
       "        \n",
       "    \n",
       "            var marker_00a8c7ff8a34dbc1c8a31bdcc71a2aa0 = L.marker(\n",
       "                [53.3488, -6.281637],\n",
       "                {}\n",
       "            ).addTo(map_68254195b6d9a321588aab4a2862ec39);\n",
       "        \n",
       "    \n",
       "        var popup_ce671ab203bd1e6d42de34fd0a367ab3 = L.popup({&quot;maxWidth&quot;: &quot;100%&quot;});\n",
       "\n",
       "        \n",
       "            \n",
       "                var html_f2a06b210221dec93117d8b9c69a6ef3 = $(`&lt;div id=&quot;html_f2a06b210221dec93117d8b9c69a6ef3&quot; style=&quot;width: 100.0%; height: 100.0%;&quot;&gt;&lt;b&gt;dublin&lt;/b&gt;&lt;/div&gt;`)[0];\n",
       "                popup_ce671ab203bd1e6d42de34fd0a367ab3.setContent(html_f2a06b210221dec93117d8b9c69a6ef3);\n",
       "            \n",
       "        \n",
       "\n",
       "        marker_00a8c7ff8a34dbc1c8a31bdcc71a2aa0.bindPopup(popup_ce671ab203bd1e6d42de34fd0a367ab3)\n",
       "        ;\n",
       "\n",
       "        \n",
       "    \n",
       "    \n",
       "            marker_00a8c7ff8a34dbc1c8a31bdcc71a2aa0.bindTooltip(\n",
       "                `&lt;div&gt;\n",
       "                     I am a tooltip!\n",
       "                 &lt;/div&gt;`,\n",
       "                {&quot;sticky&quot;: true}\n",
       "            );\n",
       "        \n",
       "&lt;/script&gt;\n",
       "&lt;/html&gt;\" style=\"position:absolute;width:100%;height:100%;left:0;top:0;border:none !important;\" allowfullscreen webkitallowfullscreen mozallowfullscreen></iframe></div></div>"
      ],
      "text/plain": [
       "<folium.folium.Map at 0x208c14e4b50>"
      ]
     },
     "execution_count": 41,
     "metadata": {},
     "output_type": "execute_result"
    }
   ],
   "source": [
    "marker_location = [53.348800, -6.281637]\n",
    "tooltip = \"I am a tooltip!\"\n",
    "popup = \"<b>dublin</b>\"\n",
    "\n",
    "folium.Marker(\n",
    "    marker_location, popup=popup, tooltip=tooltip\n",
    ").add_to(m)\n",
    "m"
   ]
  },
  {
   "cell_type": "code",
   "execution_count": null,
   "id": "c48c257b",
   "metadata": {},
   "outputs": [],
   "source": [
    "#Note: The maps use an OpenStreetMap tile by default, though other options can be used by adding the parameter tiles parameter and value when creating the map\n"
   ]
  },
  {
   "cell_type": "code",
   "execution_count": null,
   "id": "7514abcf",
   "metadata": {},
   "outputs": [],
   "source": [
    "#challenges encounter\n",
    "i was unable to find the right folium marker funtions to mark multiple location to execute the task"
   ]
  }
 ],
 "metadata": {
  "kernelspec": {
   "display_name": "Python 3 (ipykernel)",
   "language": "python",
   "name": "python3"
  },
  "language_info": {
   "codemirror_mode": {
    "name": "ipython",
    "version": 3
   },
   "file_extension": ".py",
   "mimetype": "text/x-python",
   "name": "python",
   "nbconvert_exporter": "python",
   "pygments_lexer": "ipython3",
   "version": "3.9.16"
  }
 },
 "nbformat": 4,
 "nbformat_minor": 5
}
